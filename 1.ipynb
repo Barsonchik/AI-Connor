{
 "cells": [
  {
   "cell_type": "markdown",
   "metadata": {},
   "source": [
    "**1.** Дана строка, в которой встречаются натуральные шестнадцатеричные числа. Их запись начинается с 0x и использует большие латинские буквы (например, 0x1A). \n",
    "\n",
    "Других чисел в строке нет. К сожалению, некоторые числа записаны неправильно - пропущен префикс \"0x\". Но может быть и обратная ситуация, после \"0x\" записано не число. \n",
    "\n",
    "Ваша задача выделить все шестнадцатеричные числа из строки, дописав, где необходимо пропущенный префикс \"0x\".\n",
    "Формат входных данных\n",
    "В единственной строке входных данных задана строка, состоящая из цифр, заглавных и строчных латинских букв, а также пробелов. Длина строки не превосходит 10 000 символов.\n",
    "Формат выходных данных\n",
    "Выведите все шестнадцатеричные числа, разделенные пробелом, в том же порядке, что они встречались в исходной строке."
   ]
  },
  {
   "cell_type": "markdown",
   "metadata": {},
   "source": [
    "**Gigachat**"
   ]
  },
  {
   "cell_type": "code",
   "execution_count": 2,
   "metadata": {},
   "outputs": [
    {
     "name": "stdout",
     "output_type": "stream",
     "text": [
      "\n"
     ]
    }
   ],
   "source": [
    "def fix_hex_numbers(s):\n",
    "    fixed = []\n",
    "    \n",
    "    start = 0\n",
    "    while True:\n",
    "        index = s.find('0x', start)\n",
    "        if index == -1:\n",
    "            break\n",
    "        number = s[index + 2:]\n",
    "        if not number.isalnum():\n",
    "            # '0x' отсутствует, добавляем\n",
    "            fixed.append(\"0x\" + number)\n",
    "            start = index + len(number) + 1\n",
    "        else:\n",
    "            # Проверяем, является ли последующий символ цифрой\n",
    "            if s[index + 4].isdigit() or s[index + 4] in 'ABCDEFabcdef':\n",
    "                # Следующий символ - часть правильного шестнадцатеричного числа\n",
    "                fixed.append(number)\n",
    "                start = index + len(number) + 1\n",
    "            else:\n",
    "                # '0x' присутствует, но следующее значение неверное, пропускаем\n",
    "                start += 1\n",
    "    \n",
    "    return ' '.join(fixed)\n",
    "\n",
    "# Пример использования\n",
    "input_string = input().strip()\n",
    "output_string = fix_hex_numbers(input_string)\n",
    "print(output_string)"
   ]
  },
  {
   "cell_type": "markdown",
   "metadata": {},
   "source": [
    "**You.com**"
   ]
  },
  {
   "cell_type": "code",
   "execution_count": 3,
   "metadata": {},
   "outputs": [
    {
     "name": "stdout",
     "output_type": "stream",
     "text": [
      "0x1A 0x1B 0x2C 0x3D\n"
     ]
    }
   ],
   "source": [
    "import re\n",
    "\n",
    "def extract_hex_numbers(input_string):\n",
    "    # Регулярное выражение для поиска шестнадцатеричных чисел\n",
    "    pattern = r'\\b(0x[0-9A-F]+|(?<!0x)([0-9A-F]+))\\b'\n",
    "    matches = re.findall(pattern, input_string)\n",
    "\n",
    "    hex_numbers = []\n",
    "    for match in matches:\n",
    "        if match[0].startswith('0x'):\n",
    "            hex_numbers.append(match[0])\n",
    "        else:\n",
    "            hex_numbers.append('0x' + match[1])\n",
    "\n",
    "    return ' '.join(hex_numbers)\n",
    "\n",
    "# Пример использования\n",
    "input_string = \"0x1A 1B 0x2C 3D 0xZZ\"\n",
    "result = extract_hex_numbers(input_string)\n",
    "print(result)  # Вывод: 0x1A 0x1B 0x2C 0x3D\n"
   ]
  }
 ],
 "metadata": {
  "kernelspec": {
   "display_name": "Python 3",
   "language": "python",
   "name": "python3"
  },
  "language_info": {
   "codemirror_mode": {
    "name": "ipython",
    "version": 3
   },
   "file_extension": ".py",
   "mimetype": "text/x-python",
   "name": "python",
   "nbconvert_exporter": "python",
   "pygments_lexer": "ipython3",
   "version": "3.12.4"
  }
 },
 "nbformat": 4,
 "nbformat_minor": 2
}
