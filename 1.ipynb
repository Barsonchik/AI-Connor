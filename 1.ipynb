{
 "cells": [
  {
   "cell_type": "markdown",
   "metadata": {},
   "source": [
    "**1.** Дана строка, в которой встречаются натуральные шестнадцатеричные числа. Их запись начинается с 0x и использует большие латинские буквы (например, 0x1A). \n",
    "\n",
    "Других чисел в строке нет. К сожалению, некоторые числа записаны неправильно - пропущен префикс \"0x\". Но может быть и обратная ситуация, после \"0x\" записано не число. \n",
    "\n",
    "Ваша задача выделить все шестнадцатеричные числа из строки, дописав, где необходимо пропущенный префикс \"0x\".\n",
    "Формат входных данных\n",
    "В единственной строке входных данных задана строка, состоящая из цифр, заглавных и строчных латинских букв, а также пробелов. Длина строки не превосходит 10 000 символов.\n",
    "Формат выходных данных\n",
    "Выведите все шестнадцатеричные числа, разделенные пробелом, в том же порядке, что они встречались в исходной строке."
   ]
  },
  {
   "cell_type": "markdown",
   "metadata": {},
   "source": [
    "**Gigachat**"
   ]
  },
  {
   "cell_type": "code",
   "execution_count": 13,
   "metadata": {},
   "outputs": [
    {
     "name": "stdout",
     "output_type": "stream",
     "text": [
      "0x111 0xQWERTY 123 0xa 00\n",
      "0x111 0x123 0x00\n"
     ]
    }
   ],
   "source": [
    "def fix_hex_numbers(s):\n",
    "    fixed = []\n",
    "    \n",
    "    start = 0\n",
    "    while True:\n",
    "        index = s.find('0x', start)\n",
    "        if index == -1:\n",
    "            break\n",
    "        number = s[index + 2:]\n",
    "        if not number.isalnum():\n",
    "            # '0x' отсутствует, добавляем\n",
    "            fixed.append(\"0x\" + number)\n",
    "            start = index + len(number) + 1\n",
    "        else:\n",
    "            # Проверяем, является ли последующий символ цифрой\n",
    "            if s[index + 4].isdigit() or s[index + 4] in 'ABCDEFabcdef':\n",
    "                # Следующий символ - часть правильного шестнадцатеричного числа\n",
    "                fixed.append(number)\n",
    "                start = index + len(number) + 1\n",
    "            else:\n",
    "                # '0x' присутствует, но следующее значение неверное, пропускаем\n",
    "                start += 1\n",
    "    \n",
    "    return ' '.join(fixed)\n",
    "\n",
    "# Пример использования\n",
    "input_string = input().strip()\n",
    "print(input_string)\n",
    "output_string = fix_hex_numbers(input_string)\n",
    "result = extract_hex_numbers(input_string)\n",
    "print(result)"
   ]
  },
  {
   "cell_type": "markdown",
   "metadata": {},
   "source": [
    "**You.com**"
   ]
  },
  {
   "cell_type": "code",
   "execution_count": 9,
   "metadata": {},
   "outputs": [
    {
     "name": "stdout",
     "output_type": "stream",
     "text": [
      "0x111 0xQWERTY 123 0xa 00\n",
      "0x111 0x123 0x00\n"
     ]
    }
   ],
   "source": [
    "import re\n",
    "\n",
    "def extract_hex_numbers(input_string):\n",
    "    # Регулярное выражение для поиска шестнадцатеричных чисел\n",
    "    pattern = r'\\b(0x[0-9A-F]+|(?<!0x)([0-9A-F]+))\\b'\n",
    "    matches = re.findall(pattern, input_string)\n",
    "\n",
    "    hex_numbers = []\n",
    "    for match in matches:\n",
    "        if match[0].startswith('0x'):\n",
    "            hex_numbers.append(match[0])\n",
    "        else:\n",
    "            hex_numbers.append('0x' + match[1])\n",
    "\n",
    "    return ' '.join(hex_numbers)\n",
    "\n",
    "# Пример использования\n",
    "#input_string = \"0x111 0xQWERTY 123 0xa 00\"\n",
    "input_string = input().strip()\n",
    "print(input_string)\n",
    "result = extract_hex_numbers(input_string)\n",
    "print(result)  # Вывод: 0x111 0x123 0x0A\n",
    "\n"
   ]
  },
  {
   "cell_type": "markdown",
   "metadata": {},
   "source": [
    "**2.** Входные данные:\n",
    "3000\n",
    "5\n",
    "15;2100;Ermitazh\n",
    "10;1500;Zimnij dvorec\n",
    "10;1200;Isaakievskij sobor\n",
    "8;1200;Kazanskij sobor v Peterburge\n",
    "6;750;Krejser Avrora\n",
    " \n",
    "Вывод:\n",
    "Ermitazh;Krejser Avrora\n",
    "Лена и Вася собираются в Красивый Город на шестнадцать дней и имеют на руках некоторую сумму денег (пока они не знают, сколько). Ребята хотят посетить самые интересные места. При этом, они могут посещать не более двух мест в один день.\n",
    "\n",
    "О каждом месте они знают, насколько оно интересно (в баллах) и сколько стоит его посетить (в рублях, все цены кратны 50-ти рублям).\n",
    "\n",
    "Определите список достопримечательностей с максимальной суммой баллов, такие что ребята смогут их посетить (хватит дней и денег).\n",
    "\n",
    "Формат входных данных\n",
    "В первой строке содержится одно целое число m — доступная сумма денег на руках в рублях (50 ≤ m ≤ 50 000). Гарантируется, что m делится на 50 без остатка.\n",
    "Во второй строке содержится одно целое число n — количество мест для посещения в красивом городе (1 ≤ n ≤ 100).\n",
    "Следующие n строк содержат описания мест в формате: <i>;<p>;<d>, где\n",
    "• i — интересность места в баллах (целое число от 1 до 1000)\n",
    "• p — стоимость посещения места в рублях (целое число от 0 до 10000). Гарантируется, что p делится на 50 без остатка\n",
    "• d — наименование места (строка, состоящая из строчных и заглавных букв латинского алфавита, а также пробелов, длина наименования не превосходит 40 символов)\n",
    "Гарантируется, что оптимальный ответ единственнен.\n",
    "Формат выходных данных\n",
    "Выведите оптимальный список наименований мест, которые ребятам нужно посетить, разделенных точкой с запятой в том же порядке, что они даны во входных данных."
   ]
  },
  {
   "cell_type": "markdown",
   "metadata": {},
   "source": [
    "**Gigachat**"
   ]
  },
  {
   "cell_type": "code",
   "execution_count": 31,
   "metadata": {},
   "outputs": [
    {
     "ename": "ValueError",
     "evalue": "invalid literal for int() with base 10: 'Ermitazh'",
     "output_type": "error",
     "traceback": [
      "\u001b[1;31m---------------------------------------------------------------------------\u001b[0m",
      "\u001b[1;31mValueError\u001b[0m                                Traceback (most recent call last)",
      "Cell \u001b[1;32mIn[31], line 60\u001b[0m\n\u001b[0;32m     56\u001b[0m     \u001b[38;5;28mprint\u001b[39m(\u001b[38;5;241m*\u001b[39mresult, sep\u001b[38;5;241m=\u001b[39m\u001b[38;5;124m'\u001b[39m\u001b[38;5;124m;\u001b[39m\u001b[38;5;124m'\u001b[39m)\n\u001b[0;32m     59\u001b[0m \u001b[38;5;28;01mif\u001b[39;00m \u001b[38;5;18m__name__\u001b[39m \u001b[38;5;241m==\u001b[39m \u001b[38;5;124m\"\u001b[39m\u001b[38;5;124m__main__\u001b[39m\u001b[38;5;124m\"\u001b[39m:\n\u001b[1;32m---> 60\u001b[0m     \u001b[43mmain\u001b[49m\u001b[43m(\u001b[49m\u001b[43m)\u001b[49m\n",
      "Cell \u001b[1;32mIn[31], line 52\u001b[0m, in \u001b[0;36mmain\u001b[1;34m()\u001b[0m\n\u001b[0;32m     49\u001b[0m places \u001b[38;5;241m=\u001b[39m []\n\u001b[0;32m     51\u001b[0m \u001b[38;5;28;01mfor\u001b[39;00m _ \u001b[38;5;129;01min\u001b[39;00m \u001b[38;5;28mrange\u001b[39m(num_places):\n\u001b[1;32m---> 52\u001b[0m     interest, cost, name \u001b[38;5;241m=\u001b[39m \u001b[38;5;28mmap\u001b[39m(\u001b[38;5;28mint\u001b[39m, \u001b[38;5;28minput\u001b[39m()\u001b[38;5;241m.\u001b[39msplit(\u001b[38;5;124m'\u001b[39m\u001b[38;5;124m;\u001b[39m\u001b[38;5;124m'\u001b[39m))\n\u001b[0;32m     53\u001b[0m     places\u001b[38;5;241m.\u001b[39mappend((interest, cost \u001b[38;5;241m/\u001b[39m\u001b[38;5;241m/\u001b[39m \u001b[38;5;241m50\u001b[39m, name))\n\u001b[0;32m     55\u001b[0m result \u001b[38;5;241m=\u001b[39m max_score(budget, places)\n",
      "\u001b[1;31mValueError\u001b[0m: invalid literal for int() with base 10: 'Ermitazh'"
     ]
    }
   ],
   "source": [
    "def max_score(money, places):\n",
    "    def create_graph():\n",
    "        rows = len(places)\n",
    "        cols = min(days_limit, len(places))\n",
    "        graph = [[0] * cols for _ in range(rows)]\n",
    "        return graph\n",
    "\n",
    "    days_limit = 16\n",
    "    graph = create_graph()\n",
    "\n",
    "    for i in range(len(places)):\n",
    "        interest = places[i][0]\n",
    "        price = places[i][1] // 50\n",
    "        name = places[i][2]\n",
    "\n",
    "        for j in range(min(days_limit, len(places))):\n",
    "            if price <= budget:\n",
    "                graph[i][j] = max(interest + graph[i - 1][j - 1], graph[i - 1][j])\n",
    "            else:\n",
    "                graph[i][j] = graph[i - 1][j]\n",
    "\n",
    "    max_score = 0\n",
    "    best_path = []\n",
    "    visited = set()\n",
    "\n",
    "    for i in range(len(places)):\n",
    "        for j in range(min(days_limit, len(places))):\n",
    "            if graph[i][j] > max_score:\n",
    "                max_score = graph[i][j]\n",
    "                best_path = [(i, j)]\n",
    "            elif graph[i][j] == max_score:\n",
    "                best_path.append((i, j))\n",
    "\n",
    "    best_path.sort(key=lambda x: x[0])\n",
    "\n",
    "    for _, j in best_path:\n",
    "        index = j\n",
    "        while index != -1:\n",
    "            visited.add(index)\n",
    "            yield places[index][2]\n",
    "            index -= 1\n",
    "\n",
    "    return list(filter(None, map(lambda x: x[2], places)))\n",
    "\n",
    "\n",
    "def main():\n",
    "    budget = int(input('Какой суммой располагаешь?'))\n",
    "    num_places = int(input())\n",
    "    places = []\n",
    "\n",
    "    for _ in range(num_places):\n",
    "        interest, cost, name = map(int, input().split(';'))\n",
    "        places.append((interest, cost // 50, name))\n",
    "\n",
    "    result = max_score(budget, places)\n",
    "    print(*result, sep=';')\n",
    "\n",
    "\n",
    "if __name__ == \"__main__\":\n",
    "    main()"
   ]
  },
  {
   "cell_type": "markdown",
   "metadata": {},
   "source": [
    "**You.com**"
   ]
  },
  {
   "cell_type": "code",
   "execution_count": 29,
   "metadata": {},
   "outputs": [
    {
     "name": "stdout",
     "output_type": "stream",
     "text": [
      "Ermitazh;Krejser Avrora\n"
     ]
    }
   ],
   "source": [
    "def max_interesting_places(m, n, places):\n",
    "    # Преобразуем входные данные в удобный вид\n",
    "    places_info = []\n",
    "    for place in places:\n",
    "        points, cost, name = place.split(';')\n",
    "        places_info.append((int(points), int(cost), name))\n",
    "    \n",
    "    # Максимальное количество мест, которые можно посетить\n",
    "    max_visits = 16 * 2  # 16 дней, 2 места в день\n",
    "    \n",
    "    # Инициализация динамической таблицы\n",
    "    dp = [[0] * (m + 1) for _ in range(max_visits + 1)]\n",
    "    selected_places = [[[] for _ in range(m + 1)] for _ in range(max_visits + 1)]\n",
    "\n",
    "    # Заполнение таблицы\n",
    "    for points, cost, name in places_info:\n",
    "        for visits in range(max_visits, 0, -1):\n",
    "            for money in range(m, cost - 1, -1):\n",
    "                if dp[visits - 1][money - cost] + points > dp[visits][money]:\n",
    "                    dp[visits][money] = dp[visits - 1][money - cost] + points\n",
    "                    selected_places[visits][money] = selected_places[visits - 1][money - cost] + [name]\n",
    "\n",
    "    # Поиск максимальных баллов и соответствующих мест\n",
    "    max_points = 0\n",
    "    best_places = []\n",
    "    for visits in range(1, max_visits + 1):\n",
    "        for money in range(m + 1):\n",
    "            if dp[visits][money] > max_points:\n",
    "                max_points = dp[visits][money]\n",
    "                best_places = selected_places[visits][money]\n",
    "\n",
    "    return best_places\n",
    "\n",
    "# Входные данные\n",
    "m = int(input('Какой суммой располагаешь?'))  # Доступная сумма денег\n",
    "n = int(input('На сколько планируете мест?'))     # Количество мест\n",
    "places = [\n",
    "    \"15;2100;Ermitazh\",\n",
    "    \"10;1500;Zimnij dvorec\",\n",
    "    \"10;1200;Isaakievskij sobor\",\n",
    "    \"8;1200;Kazanskij sobor v Peterburge\",\n",
    "    \"6;750;Krejser Avrora\"\n",
    "]\n",
    "\n",
    "# Получение результата\n",
    "result = max_interesting_places(m, n, places)\n",
    "print(';'.join(result))  # Вывод: Ermitazh;Krejser Avrora\n",
    "\n"
   ]
  },
  {
   "cell_type": "code",
   "execution_count": 30,
   "metadata": {},
   "outputs": [
    {
     "name": "stdout",
     "output_type": "stream",
     "text": [
      "Ermitazh\n"
     ]
    }
   ],
   "source": [
    "def max_interesting_places(m, n, places):\n",
    "    # Преобразуем входные данные в удобный вид\n",
    "    places_info = []\n",
    "    for place in places:\n",
    "        points, cost, name = place.split(';')\n",
    "        places_info.append((int(points), int(cost), name))\n",
    "    \n",
    "    # Максимальное количество мест, которые можно посетить\n",
    "    max_visits = 16 * 2  # 16 дней, 2 места в день\n",
    "    \n",
    "    # Инициализация динамической таблицы\n",
    "    dp = [[0] * (m + 1) for _ in range(max_visits + 1)]\n",
    "    selected_places = [[[] for _ in range(m + 1)] for _ in range(max_visits + 1)]\n",
    "\n",
    "    # Заполнение таблицы\n",
    "    for points, cost, name in places_info:\n",
    "        for visits in range(max_visits, 0, -1):\n",
    "            for money in range(m, cost - 1, -1):\n",
    "                if dp[visits - 1][money - cost] + points > dp[visits][money]:\n",
    "                    dp[visits][money] = dp[visits - 1][money - cost] + points\n",
    "                    selected_places[visits][money] = selected_places[visits - 1][money - cost] + [name]\n",
    "\n",
    "    # Поиск максимальных баллов и соответствующих мест\n",
    "    max_points = 0\n",
    "    best_places = []\n",
    "    for visits in range(1, max_visits + 1):\n",
    "        for money in range(m + 1):\n",
    "            if dp[visits][money] > max_points:\n",
    "                max_points = dp[visits][money]\n",
    "                best_places = selected_places[visits][money]\n",
    "\n",
    "    return best_places\n",
    "\n",
    "# Ввод данных от пользователя\n",
    "m = int(input('Какой суммой располагаешь? '))  # Доступная сумма денег\n",
    "n = int(input('На сколько планируете мест? '))  # Количество мест\n",
    "\n",
    "places = []\n",
    "for _ in range(n):\n",
    "    place_info = input('Введите информацию о месте в формате <баллы>;<стоимость>;<название>: ')\n",
    "    places.append(place_info)\n",
    "\n",
    "# Получение результата\n",
    "result = max_interesting_places(m, n, places)\n",
    "print(';'.join(result))  # Вывод оптимального списка мест\n"
   ]
  }
 ],
 "metadata": {
  "kernelspec": {
   "display_name": "Python 3",
   "language": "python",
   "name": "python3"
  },
  "language_info": {
   "codemirror_mode": {
    "name": "ipython",
    "version": 3
   },
   "file_extension": ".py",
   "mimetype": "text/x-python",
   "name": "python",
   "nbconvert_exporter": "python",
   "pygments_lexer": "ipython3",
   "version": "3.12.4"
  }
 },
 "nbformat": 4,
 "nbformat_minor": 2
}
