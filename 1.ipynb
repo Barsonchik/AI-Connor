{
 "cells": [
  {
   "cell_type": "markdown",
   "metadata": {},
   "source": [
    "**1.** Дана строка, в которой встречаются натуральные шестнадцатеричные числа. Их запись начинается с 0x и использует большие латинские буквы (например, 0x1A). \n",
    "\n",
    "Других чисел в строке нет. К сожалению, некоторые числа записаны неправильно - пропущен префикс \"0x\". Но может быть и обратная ситуация, после \"0x\" записано не число. \n",
    "\n",
    "Ваша задача выделить все шестнадцатеричные числа из строки, дописав, где необходимо пропущенный префикс \"0x\".\n",
    "Формат входных данных\n",
    "В единственной строке входных данных задана строка, состоящая из цифр, заглавных и строчных латинских букв, а также пробелов. Длина строки не превосходит 10 000 символов.\n",
    "Формат выходных данных\n",
    "Выведите все шестнадцатеричные числа, разделенные пробелом, в том же порядке, что они встречались в исходной строке."
   ]
  },
  {
   "cell_type": "markdown",
   "metadata": {},
   "source": [
    "**Gigachat**"
   ]
  },
  {
   "cell_type": "code",
   "execution_count": 13,
   "metadata": {},
   "outputs": [
    {
     "name": "stdout",
     "output_type": "stream",
     "text": [
      "0x111 0xQWERTY 123 0xa 00\n",
      "0x111 0x123 0x00\n"
     ]
    }
   ],
   "source": [
    "def fix_hex_numbers(s):\n",
    "    fixed = []\n",
    "    \n",
    "    start = 0\n",
    "    while True:\n",
    "        index = s.find('0x', start)\n",
    "        if index == -1:\n",
    "            break\n",
    "        number = s[index + 2:]\n",
    "        if not number.isalnum():\n",
    "            # '0x' отсутствует, добавляем\n",
    "            fixed.append(\"0x\" + number)\n",
    "            start = index + len(number) + 1\n",
    "        else:\n",
    "            # Проверяем, является ли последующий символ цифрой\n",
    "            if s[index + 4].isdigit() or s[index + 4] in 'ABCDEFabcdef':\n",
    "                # Следующий символ - часть правильного шестнадцатеричного числа\n",
    "                fixed.append(number)\n",
    "                start = index + len(number) + 1\n",
    "            else:\n",
    "                # '0x' присутствует, но следующее значение неверное, пропускаем\n",
    "                start += 1\n",
    "    \n",
    "    return ' '.join(fixed)\n",
    "\n",
    "# Пример использования\n",
    "input_string = input().strip()\n",
    "print(input_string)\n",
    "output_string = fix_hex_numbers(input_string)\n",
    "result = extract_hex_numbers(input_string)\n",
    "print(result)"
   ]
  },
  {
   "cell_type": "markdown",
   "metadata": {},
   "source": [
    "**You.com**"
   ]
  },
  {
   "cell_type": "code",
   "execution_count": 9,
   "metadata": {},
   "outputs": [
    {
     "name": "stdout",
     "output_type": "stream",
     "text": [
      "0x111 0xQWERTY 123 0xa 00\n",
      "0x111 0x123 0x00\n"
     ]
    }
   ],
   "source": [
    "import re\n",
    "\n",
    "def extract_hex_numbers(input_string):\n",
    "    # Регулярное выражение для поиска шестнадцатеричных чисел\n",
    "    pattern = r'\\b(0x[0-9A-F]+|(?<!0x)([0-9A-F]+))\\b'\n",
    "    matches = re.findall(pattern, input_string)\n",
    "\n",
    "    hex_numbers = []\n",
    "    for match in matches:\n",
    "        if match[0].startswith('0x'):\n",
    "            hex_numbers.append(match[0])\n",
    "        else:\n",
    "            hex_numbers.append('0x' + match[1])\n",
    "\n",
    "    return ' '.join(hex_numbers)\n",
    "\n",
    "# Пример использования\n",
    "#input_string = \"0x111 0xQWERTY 123 0xa 00\"\n",
    "input_string = input().strip()\n",
    "print(input_string)\n",
    "result = extract_hex_numbers(input_string)\n",
    "print(result)  # Вывод: 0x111 0x123 0x0A\n",
    "\n"
   ]
  },
  {
   "cell_type": "markdown",
   "metadata": {},
   "source": [
    "**2.** Входные данные:\n",
    "3000\n",
    "5\n",
    "15;2100;Ermitazh\n",
    "10;1500;Zimnij dvorec\n",
    "10;1200;Isaakievskij sobor\n",
    "8;1200;Kazanskij sobor v Peterburge\n",
    "6;750;Krejser Avrora\n",
    " \n",
    "Вывод:\n",
    "Ermitazh;Krejser Avrora\n",
    "Лена и Вася собираются в Красивый Город на шестнадцать дней и имеют на руках некоторую сумму денег (пока они не знают, сколько). Ребята хотят посетить самые интересные места. При этом, они могут посещать не более двух мест в один день.\n",
    "\n",
    "О каждом месте они знают, насколько оно интересно (в баллах) и сколько стоит его посетить (в рублях, все цены кратны 50-ти рублям).\n",
    "\n",
    "Определите список достопримечательностей с максимальной суммой баллов, такие что ребята смогут их посетить (хватит дней и денег).\n",
    "\n",
    "Формат входных данных\n",
    "В первой строке содержится одно целое число m — доступная сумма денег на руках в рублях (50 ≤ m ≤ 50 000). Гарантируется, что m делится на 50 без остатка."
   ]
  },
  {
   "cell_type": "markdown",
   "metadata": {},
   "source": [
    "**Gigachat**"
   ]
  },
  {
   "cell_type": "code",
   "execution_count": 14,
   "metadata": {},
   "outputs": [
    {
     "ename": "ValueError",
     "evalue": "not enough values to unpack (expected 2, got 1)",
     "output_type": "error",
     "traceback": [
      "\u001b[1;31m---------------------------------------------------------------------------\u001b[0m",
      "\u001b[1;31mValueError\u001b[0m                                Traceback (most recent call last)",
      "Cell \u001b[1;32mIn[14], line 34\u001b[0m\n\u001b[0;32m     32\u001b[0m money \u001b[38;5;241m=\u001b[39m \u001b[38;5;28mint\u001b[39m(\u001b[38;5;28minput\u001b[39m())\n\u001b[0;32m     33\u001b[0m data \u001b[38;5;241m=\u001b[39m [line\u001b[38;5;241m.\u001b[39msplit(\u001b[38;5;124m'\u001b[39m\u001b[38;5;124m;\u001b[39m\u001b[38;5;124m'\u001b[39m) \u001b[38;5;28;01mfor\u001b[39;00m line \u001b[38;5;129;01min\u001b[39;00m \u001b[38;5;28minput\u001b[39m()\u001b[38;5;241m.\u001b[39msplitlines()]\n\u001b[1;32m---> 34\u001b[0m result \u001b[38;5;241m=\u001b[39m \u001b[43mmax_score\u001b[49m\u001b[43m(\u001b[49m\u001b[43mmoney\u001b[49m\u001b[43m,\u001b[49m\u001b[43m \u001b[49m\u001b[43mdata\u001b[49m\u001b[43m)\u001b[49m\n\u001b[0;32m     35\u001b[0m \u001b[38;5;28mprint\u001b[39m(result)\n",
      "Cell \u001b[1;32mIn[14], line 8\u001b[0m, in \u001b[0;36mmax_score\u001b[1;34m(money, data)\u001b[0m\n\u001b[0;32m      5\u001b[0m day_limit \u001b[38;5;241m=\u001b[39m \u001b[38;5;241m16\u001b[39m\n\u001b[0;32m      6\u001b[0m money \u001b[38;5;241m/\u001b[39m\u001b[38;5;241m/\u001b[39m\u001b[38;5;241m=\u001b[39m \u001b[38;5;241m50\u001b[39m  \u001b[38;5;66;03m# Преобразуем деньги в удобную форму\u001b[39;00m\n\u001b[1;32m----> 8\u001b[0m \u001b[38;5;28;01mfor\u001b[39;00m place, score \u001b[38;5;129;01min\u001b[39;00m data:\n\u001b[0;32m      9\u001b[0m     prices[place] \u001b[38;5;241m=\u001b[39m \u001b[38;5;28mint\u001b[39m(place\u001b[38;5;241m.\u001b[39msplit(\u001b[38;5;124m'\u001b[39m\u001b[38;5;124m;\u001b[39m\u001b[38;5;124m'\u001b[39m)[\u001b[38;5;241m1\u001b[39m]) \u001b[38;5;241m/\u001b[39m\u001b[38;5;241m/\u001b[39m \u001b[38;5;241m50\u001b[39m\n\u001b[0;32m     10\u001b[0m     scores[place] \u001b[38;5;241m=\u001b[39m \u001b[38;5;28mint\u001b[39m(score)\n",
      "\u001b[1;31mValueError\u001b[0m: not enough values to unpack (expected 2, got 1)"
     ]
    }
   ],
   "source": [
    "def max_score(money, data):\n",
    "    scores = {}\n",
    "    prices = {}\n",
    "    total_cost = 0\n",
    "    day_limit = 16\n",
    "    money //= 50  # Преобразуем деньги в удобную форму\n",
    "    \n",
    "    for place, score in data:\n",
    "        prices[place] = int(place.split(';')[1]) // 50\n",
    "        scores[place] = int(score)\n",
    "        total_cost += prices[place]\n",
    "    \n",
    "    dp = [[0] * (day_limit + 1) for _ in range(total_cost + 1)]\n",
    "    \n",
    "    for i in range(1, total_cost + 1):\n",
    "        for j in range(1, day_limit + 1):\n",
    "            max_score_so_far = 0\n",
    "            current_price = 0\n",
    "            for place in sorted(scores, key=lambda x: prices[x], reverse=True):\n",
    "                current_price += prices[place]\n",
    "                \n",
    "                if current_price > i:\n",
    "                    continue\n",
    "                \n",
    "                max_score_so_far = max(max_score_so_far, scores[place] + dp[i - current_price][j - 1])\n",
    "                \n",
    "            dp[i][j] = max_score_so_far\n",
    "    \n",
    "    return dp[-1][-1]\n",
    "\n",
    "if __name__ == \"__main__\":\n",
    "    money = int(input())\n",
    "    data = [line.split(';') for line in input().splitlines()]\n",
    "    result = max_score(money, data)\n",
    "    print(result)"
   ]
  },
  {
   "cell_type": "markdown",
   "metadata": {},
   "source": [
    "**You.com**"
   ]
  },
  {
   "cell_type": "code",
   "execution_count": 15,
   "metadata": {},
   "outputs": [
    {
     "name": "stdout",
     "output_type": "stream",
     "text": [
      "Ermitazh;Zimnij dvorec;Isaakievskij sobor;Kazanskij sobor v Peterburge;Krejser Avrora\n"
     ]
    }
   ],
   "source": [
    "def max_interesting_places(m, days, places):\n",
    "    # Преобразуем входные данные в удобный вид\n",
    "    places_info = []\n",
    "    for place in places:\n",
    "        cost, points, name = place.split(';')\n",
    "        places_info.append((int(cost), int(points), name))\n",
    "    \n",
    "    # Максимальное количество мест, которые можно посетить\n",
    "    max_visits = days * 2\n",
    "    \n",
    "    # Инициализация динамической таблицы\n",
    "    dp = [[0] * (m + 1) for _ in range(max_visits + 1)]\n",
    "    selected_places = [[[] for _ in range(m + 1)] for _ in range(max_visits + 1)]\n",
    "\n",
    "    # Заполнение таблицы\n",
    "    for cost, points, name in places_info:\n",
    "        for visits in range(max_visits, 0, -1):\n",
    "            for money in range(m, cost - 1, -1):\n",
    "                if dp[visits - 1][money - cost] + points > dp[visits][money]:\n",
    "                    dp[visits][money] = dp[visits - 1][money - cost] + points\n",
    "                    selected_places[visits][money] = selected_places[visits - 1][money - cost] + [name]\n",
    "\n",
    "    # Поиск максимальных баллов и соответствующих мест\n",
    "    max_points = 0\n",
    "    best_places = []\n",
    "    for visits in range(1, max_visits + 1):\n",
    "        for money in range(m + 1):\n",
    "            if dp[visits][money] > max_points:\n",
    "                max_points = dp[visits][money]\n",
    "                best_places = selected_places[visits][money]\n",
    "\n",
    "    return best_places\n",
    "\n",
    "# Входные данные\n",
    "m = 3000\n",
    "days = 16\n",
    "places = [\n",
    "    \"15;2100;Ermitazh\",\n",
    "    \"10;1500;Zimnij dvorec\",\n",
    "    \"10;1200;Isaakievskij sobor\",\n",
    "    \"8;1200;Kazanskij sobor v Peterburge\",\n",
    "    \"6;750;Krejser Avrora\"\n",
    "]\n",
    "\n",
    "# Получение результата\n",
    "result = max_interesting_places(m, days, places)\n",
    "print(';'.join(result))  # Вывод: Ermitazh;Krejser Avrora\n"
   ]
  }
 ],
 "metadata": {
  "kernelspec": {
   "display_name": "Python 3",
   "language": "python",
   "name": "python3"
  },
  "language_info": {
   "codemirror_mode": {
    "name": "ipython",
    "version": 3
   },
   "file_extension": ".py",
   "mimetype": "text/x-python",
   "name": "python",
   "nbconvert_exporter": "python",
   "pygments_lexer": "ipython3",
   "version": "3.12.4"
  }
 },
 "nbformat": 4,
 "nbformat_minor": 2
}
